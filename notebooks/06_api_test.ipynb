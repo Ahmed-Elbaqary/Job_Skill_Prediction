{
 "cells": [
  {
   "cell_type": "code",
   "execution_count": 1,
   "id": "a115a127-deef-483c-9567-d0a7762ca4e9",
   "metadata": {},
   "outputs": [],
   "source": [
    "API_URL = \"http://127.0.0.1:5000/\"\n",
    "PREDICTION_ENDPOINT = \"predict_jobs_probs\"\n",
    "SIMULATION_ENDPOINT = \"recommend_new_skills\""
   ]
  },
  {
   "cell_type": "code",
   "execution_count": 2,
   "id": "688334ee-915c-49e2-a54b-9f21d3ffea92",
   "metadata": {},
   "outputs": [],
   "source": [
    "import pandas as pd \n",
    "import json\n",
    "import requests"
   ]
  },
  {
   "cell_type": "markdown",
   "id": "29839673-33c2-4277-963f-3b7a3cd62460",
   "metadata": {},
   "source": [
    "## Predict"
   ]
  },
  {
   "cell_type": "code",
   "execution_count": 3,
   "id": "506abcb5-c931-4368-a7a7-7b2b4034dc23",
   "metadata": {},
   "outputs": [],
   "source": [
    "available_skills = [\"R\", \"SQL\", \"Rstudio\"]"
   ]
  },
  {
   "cell_type": "code",
   "execution_count": 9,
   "id": "ac8f74cb-2b34-4951-840e-6af71d502381",
   "metadata": {},
   "outputs": [],
   "source": [
    "predictions = requests.post(API_URL + PREDICTION_ENDPOINT,\n",
    "                            data=json.dumps(available_skills),\n",
    "                            headers={\"content-type\": \"application/json\"})"
   ]
  },
  {
   "cell_type": "code",
   "execution_count": 17,
   "id": "b61e5cf7-2928-4baa-8ac3-93c4d27db6c9",
   "metadata": {},
   "outputs": [
    {
     "data": {
      "text/plain": [
       "<Response [200]>"
      ]
     },
     "execution_count": 17,
     "metadata": {},
     "output_type": "execute_result"
    }
   ],
   "source": [
    "predictions"
   ]
  },
  {
   "cell_type": "code",
   "execution_count": 18,
   "id": "a11b055e-fc57-419b-8e11-fcac63c9df9c",
   "metadata": {},
   "outputs": [
    {
     "data": {
      "text/plain": [
       "Data or business analyst                         0.768000\n",
       "Data scientist or machine learning specialist    0.250333\n",
       "Scientist                                        0.168000\n",
       "Academic researcher                              0.132667\n",
       "Database administrator                           0.024000\n",
       "Engineer, data                                   0.021333\n",
       "Developer, desktop or enterprise applications    0.020000\n",
       "Developer, QA or test                            0.008000\n",
       "Developer, back-end                              0.008000\n",
       "Developer, embedded applications or devices      0.004000\n",
       "Developer, full-stack                            0.004000\n",
       "DevOps specialist                                0.000000\n",
       "Developer, front-end                             0.000000\n",
       "Developer, game or graphics                      0.000000\n",
       "Developer, mobile                                0.000000\n",
       "System administrator                             0.000000\n",
       "dtype: float64"
      ]
     },
     "execution_count": 18,
     "metadata": {},
     "output_type": "execute_result"
    }
   ],
   "source": [
    "pd.Series(predictions.json()).sort_values(ascending=False)"
   ]
  },
  {
   "cell_type": "markdown",
   "id": "691fea36-cff0-4efe-8d27-a1647df8658f",
   "metadata": {},
   "source": [
    "## Simulate"
   ]
  },
  {
   "cell_type": "code",
   "execution_count": 19,
   "id": "5c705405-1582-4a98-b795-0293fdfe2b02",
   "metadata": {},
   "outputs": [],
   "source": [
    "target_job = \"Data scientist or machine learning specialist\""
   ]
  },
  {
   "cell_type": "code",
   "execution_count": 20,
   "id": "894548c7-90ee-43e5-8ef6-c588703a942e",
   "metadata": {},
   "outputs": [],
   "source": [
    "simulation = requests.post(API_URL + SIMULATION_ENDPOINT,\n",
    "                           data = json.dumps({\n",
    "                               \"available_skills\": available_skills,\n",
    "                               \"target_job\": target_job\n",
    "                           }),\n",
    "                           headers={\"content-type\": \"application/json\"})"
   ]
  },
  {
   "cell_type": "code",
   "execution_count": 22,
   "id": "d0b70759-519b-4291-8326-a211775f8628",
   "metadata": {},
   "outputs": [
    {
     "data": {
      "text/plain": [
       "Elasticsearch           1.407457\n",
       "Go                      1.252996\n",
       "Kubernetes              1.199734\n",
       "Git                     1.154993\n",
       "Redis                   1.117177\n",
       "Hadoop                  1.015903\n",
       "Apache Spark            1.007913\n",
       "PostgreSQL              1.004946\n",
       "Microsoft SQL Server    1.001522\n",
       "Torch/PyTorch           0.984934\n",
       "dtype: float64"
      ]
     },
     "execution_count": 22,
     "metadata": {},
     "output_type": "execute_result"
    }
   ],
   "source": [
    "pd.Series(simulation.json()).sort_values(ascending=False)[:10]"
   ]
  },
  {
   "cell_type": "code",
   "execution_count": null,
   "id": "852ae70f-b72b-4ac0-9539-470317648a30",
   "metadata": {},
   "outputs": [],
   "source": []
  }
 ],
 "metadata": {
  "kernelspec": {
   "display_name": "Python 3 (ipykernel)",
   "language": "python",
   "name": "python3"
  },
  "language_info": {
   "codemirror_mode": {
    "name": "ipython",
    "version": 3
   },
   "file_extension": ".py",
   "mimetype": "text/x-python",
   "name": "python",
   "nbconvert_exporter": "python",
   "pygments_lexer": "ipython3",
   "version": "3.8.8"
  }
 },
 "nbformat": 4,
 "nbformat_minor": 5
}
