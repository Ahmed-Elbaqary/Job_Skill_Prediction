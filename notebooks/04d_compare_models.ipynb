{
 "cells": [
  {
   "cell_type": "code",
   "execution_count": 1,
   "id": "644763ab-ec9e-4774-aede-84a1eca21311",
   "metadata": {},
   "outputs": [],
   "source": [
    "MLFLOW_TRACKING_URI = \"../models/mlruns\"\n",
    "MLFLOW_EXPERIMENT_NAME = \"skills_jobs_stackoverflow\""
   ]
  },
  {
   "cell_type": "code",
   "execution_count": 2,
   "id": "21e106a5-7830-4490-90c7-e5a85db1cc5e",
   "metadata": {},
   "outputs": [],
   "source": [
    "import pandas as pd\n",
    "\n",
    "import mlflow\n",
    "from mlflow.tracking import MlflowClient"
   ]
  },
  {
   "cell_type": "markdown",
   "id": "64361eda-7eff-4f84-81c2-f64d0e67b73b",
   "metadata": {},
   "source": [
    "---\n",
    "## Intialize Mlflow "
   ]
  },
  {
   "cell_type": "code",
   "execution_count": 3,
   "id": "83c105e4-2b7b-40d6-822d-dd9750dec3ea",
   "metadata": {},
   "outputs": [],
   "source": [
    "mlflow.set_tracking_uri(MLFLOW_TRACKING_URI)\n",
    "client = MlflowClient()"
   ]
  },
  {
   "cell_type": "code",
   "execution_count": 12,
   "id": "a2e67412-3e7a-49ff-b061-27c66d966b04",
   "metadata": {},
   "outputs": [
    {
     "name": "stdout",
     "output_type": "stream",
     "text": [
      "<Experiment: artifact_location='../models/mlruns/0', experiment_id='0', lifecycle_stage='active', name='skills_jobs_stackoverflow', tags={}>\n"
     ]
    }
   ],
   "source": [
    "# Check if experiment exist or not\n",
    "exp = client.get_experiment_by_name(MLFLOW_EXPERIMENT_NAME)\n",
    "if  not exp:\n",
    "    raise Exception(\n",
    "        f\"Experiment '{MLFLOW_EXPERIMENT_NAME}' doesn't exist at '{MLFLOW_TRACKING_URI}'\"\n",
    "    )\n",
    "\n",
    "print(exp)"
   ]
  },
  {
   "cell_type": "markdown",
   "id": "68f90ff0-7fbd-4c1a-90c8-8d48c376d2e8",
   "metadata": {},
   "source": [
    "___\n",
    "## Getting runs to compare models"
   ]
  },
  {
   "cell_type": "code",
   "execution_count": 13,
   "id": "b15088db-f53a-4498-a02c-6ca7cdd32c50",
   "metadata": {},
   "outputs": [
    {
     "data": {
      "text/html": [
       "<div>\n",
       "<style scoped>\n",
       "    .dataframe tbody tr th:only-of-type {\n",
       "        vertical-align: middle;\n",
       "    }\n",
       "\n",
       "    .dataframe tbody tr th {\n",
       "        vertical-align: top;\n",
       "    }\n",
       "\n",
       "    .dataframe thead th {\n",
       "        text-align: right;\n",
       "    }\n",
       "</style>\n",
       "<table border=\"1\" class=\"dataframe\">\n",
       "  <thead>\n",
       "    <tr style=\"text-align: right;\">\n",
       "      <th></th>\n",
       "      <th>run_id</th>\n",
       "      <th>experiment_id</th>\n",
       "      <th>status</th>\n",
       "      <th>artifact_uri</th>\n",
       "      <th>start_time</th>\n",
       "      <th>end_time</th>\n",
       "      <th>metrics.recall_score</th>\n",
       "      <th>metrics.precision_score</th>\n",
       "      <th>metrics.accuracy_score</th>\n",
       "      <th>metrics.f1_score</th>\n",
       "      <th>tags.mlflow.source.type</th>\n",
       "      <th>tags.mlflow.runName</th>\n",
       "      <th>tags.mlflow.user</th>\n",
       "      <th>tags.mlflow.source.name</th>\n",
       "    </tr>\n",
       "  </thead>\n",
       "  <tbody>\n",
       "    <tr>\n",
       "      <th>0</th>\n",
       "      <td>a8fb8540585f471ab7bf110e5a28229a</td>\n",
       "      <td>0</td>\n",
       "      <td>FINISHED</td>\n",
       "      <td>../models/mlruns/0/a8fb8540585f471ab7bf110e5a2...</td>\n",
       "      <td>2022-06-06 20:30:26.826000+00:00</td>\n",
       "      <td>2022-06-06 20:32:00.426000+00:00</td>\n",
       "      <td>60.596250</td>\n",
       "      <td>92.35625</td>\n",
       "      <td>93.77375</td>\n",
       "      <td>72.475000</td>\n",
       "      <td>LOCAL</td>\n",
       "      <td>Random Forest: with PCA + Hyperparamter tuning</td>\n",
       "      <td>ahmed</td>\n",
       "      <td>C:\\Users\\ahmed\\anaconda3\\lib\\site-packages\\ipy...</td>\n",
       "    </tr>\n",
       "    <tr>\n",
       "      <th>1</th>\n",
       "      <td>7c11fe8b80884354bab367f693a256f2</td>\n",
       "      <td>0</td>\n",
       "      <td>FINISHED</td>\n",
       "      <td>../models/mlruns/0/7c11fe8b80884354bab367f693a...</td>\n",
       "      <td>2022-06-06 20:29:13.918000+00:00</td>\n",
       "      <td>2022-06-06 20:29:18.801000+00:00</td>\n",
       "      <td>57.588125</td>\n",
       "      <td>95.54125</td>\n",
       "      <td>93.66625</td>\n",
       "      <td>70.990625</td>\n",
       "      <td>LOCAL</td>\n",
       "      <td>Random Forest: with PCA - Basic</td>\n",
       "      <td>ahmed</td>\n",
       "      <td>C:\\Users\\ahmed\\anaconda3\\lib\\site-packages\\ipy...</td>\n",
       "    </tr>\n",
       "    <tr>\n",
       "      <th>2</th>\n",
       "      <td>f9aa2a6cd6ac41b590549a42a6500823</td>\n",
       "      <td>0</td>\n",
       "      <td>FINISHED</td>\n",
       "      <td>../models/mlruns/0/f9aa2a6cd6ac41b590549a42a65...</td>\n",
       "      <td>2022-06-06 20:27:19.581000+00:00</td>\n",
       "      <td>2022-06-06 20:27:19.828000+00:00</td>\n",
       "      <td>29.420000</td>\n",
       "      <td>65.67875</td>\n",
       "      <td>88.75750</td>\n",
       "      <td>37.925625</td>\n",
       "      <td>LOCAL</td>\n",
       "      <td>Baseline model: Logistic Regression</td>\n",
       "      <td>ahmed</td>\n",
       "      <td>C:\\Users\\ahmed\\anaconda3\\lib\\site-packages\\ipy...</td>\n",
       "    </tr>\n",
       "  </tbody>\n",
       "</table>\n",
       "</div>"
      ],
      "text/plain": [
       "                             run_id experiment_id    status  \\\n",
       "0  a8fb8540585f471ab7bf110e5a28229a             0  FINISHED   \n",
       "1  7c11fe8b80884354bab367f693a256f2             0  FINISHED   \n",
       "2  f9aa2a6cd6ac41b590549a42a6500823             0  FINISHED   \n",
       "\n",
       "                                        artifact_uri  \\\n",
       "0  ../models/mlruns/0/a8fb8540585f471ab7bf110e5a2...   \n",
       "1  ../models/mlruns/0/7c11fe8b80884354bab367f693a...   \n",
       "2  ../models/mlruns/0/f9aa2a6cd6ac41b590549a42a65...   \n",
       "\n",
       "                        start_time                         end_time  \\\n",
       "0 2022-06-06 20:30:26.826000+00:00 2022-06-06 20:32:00.426000+00:00   \n",
       "1 2022-06-06 20:29:13.918000+00:00 2022-06-06 20:29:18.801000+00:00   \n",
       "2 2022-06-06 20:27:19.581000+00:00 2022-06-06 20:27:19.828000+00:00   \n",
       "\n",
       "   metrics.recall_score  metrics.precision_score  metrics.accuracy_score  \\\n",
       "0             60.596250                 92.35625                93.77375   \n",
       "1             57.588125                 95.54125                93.66625   \n",
       "2             29.420000                 65.67875                88.75750   \n",
       "\n",
       "   metrics.f1_score tags.mlflow.source.type  \\\n",
       "0         72.475000                   LOCAL   \n",
       "1         70.990625                   LOCAL   \n",
       "2         37.925625                   LOCAL   \n",
       "\n",
       "                              tags.mlflow.runName tags.mlflow.user  \\\n",
       "0  Random Forest: with PCA + Hyperparamter tuning            ahmed   \n",
       "1                 Random Forest: with PCA - Basic            ahmed   \n",
       "2             Baseline model: Logistic Regression            ahmed   \n",
       "\n",
       "                             tags.mlflow.source.name  \n",
       "0  C:\\Users\\ahmed\\anaconda3\\lib\\site-packages\\ipy...  \n",
       "1  C:\\Users\\ahmed\\anaconda3\\lib\\site-packages\\ipy...  \n",
       "2  C:\\Users\\ahmed\\anaconda3\\lib\\site-packages\\ipy...  "
      ]
     },
     "execution_count": 13,
     "metadata": {},
     "output_type": "execute_result"
    }
   ],
   "source": [
    "## Get all runs\n",
    "runs = mlflow.search_runs([exp.experiment_id])\n",
    "runs"
   ]
  },
  {
   "cell_type": "code",
   "execution_count": null,
   "id": "cdfc73c6-88fb-4c66-b7b0-24404f0d19fd",
   "metadata": {},
   "outputs": [],
   "source": []
  }
 ],
 "metadata": {
  "kernelspec": {
   "display_name": "Python 3 (ipykernel)",
   "language": "python",
   "name": "python3"
  },
  "language_info": {
   "codemirror_mode": {
    "name": "ipython",
    "version": 3
   },
   "file_extension": ".py",
   "mimetype": "text/x-python",
   "name": "python",
   "nbconvert_exporter": "python",
   "pygments_lexer": "ipython3",
   "version": "3.8.8"
  }
 },
 "nbformat": 4,
 "nbformat_minor": 5
}
