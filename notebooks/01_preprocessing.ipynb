{
 "cells": [
  {
   "cell_type": "code",
   "execution_count": 54,
   "id": "269d7714-48a0-4373-8158-3eaf4194c097",
   "metadata": {},
   "outputs": [],
   "source": [
    "# Constants\n",
    "DATA_PATH = \"../data/raw/survey_results_public.csv\"\n",
    "EXPORT_PATH = \"../data/processed/1_preprocessed_df.pkl\"\n",
    "\n",
    "REPLACE_DICT = {\n",
    "    'YearsCodePro': {'Less than 1 year': 0, 'More than 50 years': 51},\n",
    "    'YearsCode':    {'Less than 1 year': 0, 'More than 50 years': 51}}"
   ]
  },
  {
   "cell_type": "code",
   "execution_count": 3,
   "id": "9d5d95fb-767f-4b6f-99b6-91419f667203",
   "metadata": {},
   "outputs": [],
   "source": [
    "# Needed packages\n",
    "import pandas as pd\n",
    "import numpy as np\n",
    "import logging\n",
    "import pickle"
   ]
  },
  {
   "cell_type": "markdown",
   "id": "74d2185b-ef82-429b-b8f6-0cbc31881850",
   "metadata": {},
   "source": [
    "---\n",
    "## Functions"
   ]
  },
  {
   "cell_type": "code",
   "execution_count": 18,
   "id": "f2f28088-459a-40e5-befc-5a7f5edc0ddf",
   "metadata": {},
   "outputs": [],
   "source": [
    "def split_answers(data_series, delimiter=';'):\n",
    "    \"\"\"\n",
    "    Split multiple answers exists in a single string into a list\n",
    "    of strings each represinting a single answer\n",
    "    \n",
    "    Parameters:\n",
    "    * data_series (pd.series): String series with answers\n",
    "    * delimeter (string): Another decimal integer, defalut to (;)\n",
    "    \n",
    "    Returns:\n",
    "    * (pd.series) if column contains multiple answers\n",
    "    \"\"\"\n",
    "    \n",
    "    #Sub functions\n",
    "    def is_splittable(pd_series, delimiter):\n",
    "        \"\"\"check if column has multiple answers that could be splitted or not\"\"\"\n",
    "        return pd_series.str.contains(delimiter)\n",
    "    \n",
    "    def split_answer(pd_series, delimiter):\n",
    "        \"\"\"Function to split single answer\"\"\"\n",
    "        return pd_series.str.split(delimiter)\n",
    "    \n",
    "    # --------------------------------------\n",
    "    \n",
    "    # Check if multiple answers esist - if not; return original\n",
    "    splittable_values = is_splittable(data_series, delimiter)\n",
    "    if not splittable_values.any():\n",
    "        return data_series\n",
    "    \n",
    "    #Else, split each value to a list\n",
    "    modified_series = split_answer(data_series, delimiter)\n",
    "    \n",
    "    #Replace NAs with empty lists\n",
    "    mask_null = modified_series.isnull()\n",
    "    modified_series.loc[mask_null] = modified_series.loc[mask_null].apply(lambda x: [])\n",
    "    \n",
    "    return modified_series"
   ]
  },
  {
   "cell_type": "markdown",
   "id": "7e51f56d-75ef-4693-8d34-ff50b4f206c8",
   "metadata": {},
   "source": [
    "---\n",
    "## Processing"
   ]
  },
  {
   "cell_type": "code",
   "execution_count": 4,
   "id": "39329bba-9dc7-44f9-a2df-0317adef19a8",
   "metadata": {},
   "outputs": [],
   "source": [
    "# reading data\n",
    "raw_df = pd.read_csv(DATA_PATH)\n",
    "df = raw_df.copy()"
   ]
  },
  {
   "cell_type": "markdown",
   "id": "bddd6b36-3563-4a36-9625-86a737edb455",
   "metadata": {},
   "source": [
    "### 1. Replace values and parse"
   ]
  },
  {
   "cell_type": "code",
   "execution_count": 9,
   "id": "1cc92fc5-63a0-4a46-aace-0f2fb315a3d5",
   "metadata": {},
   "outputs": [],
   "source": [
    "# Replace the non-numerical values in colmuns into numbers\n",
    "for col, replacement in REPLACE_DICT.items():\n",
    "    df[col] = df[col].replace(replacement).astype(np.float32)"
   ]
  },
  {
   "cell_type": "markdown",
   "id": "8198073f-6354-4651-a60d-d60d1172eb4b",
   "metadata": {},
   "source": [
    "### 2. Split multiple answers"
   ]
  },
  {
   "cell_type": "code",
   "execution_count": 31,
   "id": "db5fb951-91d6-45f9-9727-bef865586a95",
   "metadata": {},
   "outputs": [],
   "source": [
    "object_cols = df.select_dtypes(include=\"object\").columns.tolist()\n",
    "for col in object_cols:\n",
    "    df[col] = split_answers(df[col])"
   ]
  },
  {
   "cell_type": "markdown",
   "id": "4ecb4169-11ad-46ed-88c3-ab499fb1771c",
   "metadata": {},
   "source": [
    "---\n",
    "## Visually verify results"
   ]
  },
  {
   "cell_type": "code",
   "execution_count": 40,
   "id": "1cca738a-1f10-4fd4-abe0-f3ffe858950e",
   "metadata": {},
   "outputs": [
    {
     "name": "stdout",
     "output_type": "stream",
     "text": [
      "C#;HTML/CSS;JavaScript;SQL\n",
      "['C#', 'HTML/CSS', 'JavaScript', 'SQL']\n"
     ]
    }
   ],
   "source": [
    "i = df.sample(1).index[0]\n",
    "print(raw_df['LanguageHaveWorkedWith'].iloc[i])\n",
    "print(df['LanguageHaveWorkedWith'].iloc[i])"
   ]
  },
  {
   "cell_type": "code",
   "execution_count": 44,
   "id": "f6fec737-311d-449c-8ad4-83d5db14dd63",
   "metadata": {},
   "outputs": [
    {
     "name": "stdout",
     "output_type": "stream",
     "text": [
      "Other (please specify):\n",
      "['Other (please specify):']\n"
     ]
    }
   ],
   "source": [
    "i = df.sample(1).index[0]\n",
    "print(raw_df['DevType'].iloc[i])\n",
    "print(df['DevType'].iloc[i])"
   ]
  },
  {
   "cell_type": "code",
   "execution_count": 53,
   "id": "8f304e29-3083-4b8a-893d-ae14ef488c22",
   "metadata": {},
   "outputs": [
    {
     "name": "stdout",
     "output_type": "stream",
     "text": [
      "5\n",
      "5.0\n"
     ]
    }
   ],
   "source": [
    "i = df.sample(1).index[0]\n",
    "print(raw_df['YearsCodePro'].iloc[i])\n",
    "print(df['YearsCodePro'].iloc[i])"
   ]
  },
  {
   "cell_type": "markdown",
   "id": "3081ec91-ac76-4ad8-aa93-7d4223be655d",
   "metadata": {},
   "source": [
    "---\n",
    "# Export Data"
   ]
  },
  {
   "cell_type": "code",
   "execution_count": 58,
   "id": "62c7d1b2-e0eb-49e4-8d29-732ebe01feb4",
   "metadata": {},
   "outputs": [],
   "source": [
    "df.to_pickle(EXPORT_PATH)"
   ]
  },
  {
   "cell_type": "code",
   "execution_count": null,
   "id": "cc3b1ef7-b650-4acf-a0ce-341fe249f838",
   "metadata": {},
   "outputs": [],
   "source": []
  }
 ],
 "metadata": {
  "kernelspec": {
   "display_name": "Python 3 (ipykernel)",
   "language": "python",
   "name": "python3"
  },
  "language_info": {
   "codemirror_mode": {
    "name": "ipython",
    "version": 3
   },
   "file_extension": ".py",
   "mimetype": "text/x-python",
   "name": "python",
   "nbconvert_exporter": "python",
   "pygments_lexer": "ipython3",
   "version": "3.8.8"
  }
 },
 "nbformat": 4,
 "nbformat_minor": 5
}
