{
 "cells": [
  {
   "cell_type": "code",
   "execution_count": 1,
   "id": "d78a9914-4c4e-4ede-a300-41cd87a95bae",
   "metadata": {},
   "outputs": [],
   "source": [
    "MLFLOW_TRACKING_URI = \"../models/mlruns\"\n",
    "MLFLOW_RUN_ID = \"a8fb8540585f471ab7bf110e5a28229a\"\n",
    "\n",
    "LOG_DATA_PKL = \"data.pkl\"\n",
    "LOG_MODEL_PKL = \"model.pkl\"\n",
    "LOG_METRIC_PKL = \"metrics.pkl\"\n",
    "\n",
    "CLUSTERS_YAML_PATH = \"../data/processed/features_skills_clusters_description.yaml\""
   ]
  },
  {
   "cell_type": "code",
   "execution_count": 2,
   "id": "bead7df1-216b-4842-be5c-99921e845ba3",
   "metadata": {},
   "outputs": [],
   "source": [
    "import pandas as pd\n",
    "\n",
    "import os \n",
    "import pickle\n",
    "import yaml\n",
    "\n",
    "import mlflow\n",
    "from mlflow.tracking import MlflowClient"
   ]
  },
  {
   "cell_type": "markdown",
   "id": "b72140eb-19d4-41b8-ab01-973951e7209f",
   "metadata": {},
   "source": [
    "---\n",
    "# Intilaize:\n",
    "## Mlflow:"
   ]
  },
  {
   "cell_type": "code",
   "execution_count": 3,
   "id": "aef36075-134c-4dad-9443-af3a03c70711",
   "metadata": {},
   "outputs": [],
   "source": [
    "# Intialize client\n",
    "mlflow.set_tracking_uri(MLFLOW_TRACKING_URI)\n",
    "client = MlflowClient()"
   ]
  },
  {
   "cell_type": "code",
   "execution_count": 4,
   "id": "76c93db2-367f-4d06-b400-28d8094d7441",
   "metadata": {},
   "outputs": [],
   "source": [
    "run = mlflow.get_run(MLFLOW_RUN_ID)\n",
    "artifacts_path = run.info.artifact_uri"
   ]
  },
  {
   "cell_type": "code",
   "execution_count": 5,
   "id": "974c5ebb-5c13-4c76-b3fc-bf8bd55d7e27",
   "metadata": {},
   "outputs": [
    {
     "data": {
      "text/plain": [
       "'../models/mlruns/0/a8fb8540585f471ab7bf110e5a28229a/artifacts'"
      ]
     },
     "execution_count": 5,
     "metadata": {},
     "output_type": "execute_result"
    }
   ],
   "source": [
    "artifacts_path"
   ]
  },
  {
   "cell_type": "markdown",
   "id": "dd072574-5259-4e0d-8fc3-9234f2e566af",
   "metadata": {},
   "source": [
    "### Load artifacts"
   ]
  },
  {
   "cell_type": "code",
   "execution_count": 6,
   "id": "51e491a0-7d47-46f9-9bd2-f6d663e58dfd",
   "metadata": {},
   "outputs": [],
   "source": [
    "# Load model\n",
    "model_path = os.path.join(artifacts_path, LOG_MODEL_PKL)\n",
    "with open(model_path, 'rb') as file:\n",
    "    model = pickle.load(file)"
   ]
  },
  {
   "cell_type": "code",
   "execution_count": 11,
   "id": "70b90f0e-263f-4ad0-9a52-54f629015fe1",
   "metadata": {},
   "outputs": [
    {
     "data": {
      "text/plain": [
       "dict_keys(['model_description', 'model_details', 'model_object'])"
      ]
     },
     "execution_count": 11,
     "metadata": {},
     "output_type": "execute_result"
    }
   ],
   "source": [
    "model.keys()"
   ]
  },
  {
   "cell_type": "code",
   "execution_count": 8,
   "id": "8f82f1f8-ce74-4734-adbc-b4574a634d5a",
   "metadata": {},
   "outputs": [],
   "source": [
    "# Load data pickle\n",
    "data_path = os.path.join(artifacts_path, LOG_DATA_PKL)\n",
    "with open(data_path, 'rb') as file:\n",
    "    data = pickle.load(file)"
   ]
  },
  {
   "cell_type": "code",
   "execution_count": 9,
   "id": "ff88e0f0-fc9f-45e1-9aa3-2d4321210ebf",
   "metadata": {},
   "outputs": [
    {
     "data": {
      "text/plain": [
       "dict_keys(['data_path', 'training_indices', 'test_indices', 'features_names', 'targets_names'])"
      ]
     },
     "execution_count": 9,
     "metadata": {},
     "output_type": "execute_result"
    }
   ],
   "source": [
    "data.keys()"
   ]
  },
  {
   "cell_type": "code",
   "execution_count": 10,
   "id": "3764fc1b-0afe-4cb6-b24d-3d79192bac60",
   "metadata": {},
   "outputs": [],
   "source": [
    "# Unpack variables:\n",
    "features_names = pd.Series(data[\"features_names\"])\n",
    "targets_names = pd.Series(data[\"targets_names\"])\n",
    "classifier = model[\"model_object\"]"
   ]
  },
  {
   "cell_type": "markdown",
   "id": "061b2f04-dbff-49b7-ad58-9fa66e5fcb7e",
   "metadata": {},
   "source": [
    "---\n",
    "## Load skills Clusters"
   ]
  },
  {
   "cell_type": "code",
   "execution_count": 22,
   "id": "521f5d6c-ab7c-4510-b0a9-af3abe25d433",
   "metadata": {},
   "outputs": [
    {
     "name": "stdout",
     "output_type": "stream",
     "text": [
      "skills_group_0 ['PHP', 'SQL', 'MariaDB', 'MySQL', 'SQLite', 'Drupal', 'Laravel', 'Symfony', 'Vue.js']\n",
      "skills_group_1 ['Scala', 'Cassandra', 'Couchbase', 'Apache Spark', 'Hadoop']\n",
      "skills_group_10 ['Python', 'Django', 'FastAPI', 'Flask']\n",
      "skills_group_11 ['Assembly', 'C', 'C++', 'Qt']\n",
      "skills_group_12 ['Julia', 'Matlab', 'R', 'NumPy', 'Pandas']\n",
      "skills_group_13 ['Svelte', 'Deno']\n",
      "skills_group_14 ['Ruby', 'Ruby on Rails']\n",
      "skills_group_15 ['APL', 'COBOL', 'Crystal', 'Delphi', 'IBM DB2']\n",
      "skills_group_16 ['HTML/CSS', 'JavaScript', 'jQuery']\n",
      "skills_group_17 ['Keras', 'TensorFlow', 'Torch/PyTorch']\n",
      "skills_group_18 ['Bash/Shell', 'Perl']\n",
      "skills_group_19 ['Objective-C', 'Swift']\n",
      "skills_group_2 ['DynamoDB', 'Ansible', 'Chef', 'Flow', 'Pulumi', 'Puppet', 'Terraform']\n",
      "skills_group_20 ['Elixir', 'Erlang']\n",
      "skills_group_21 ['TypeScript', 'Angular', 'Angular.js', 'Cordova']\n",
      "skills_group_3 ['Node.js', 'MongoDB', 'Express', 'Gatsby', 'React.js', 'React Native', 'Yarn']\n",
      "skills_group_4 ['Go', 'Elasticsearch', 'PostgreSQL', 'Redis', 'Docker', 'Git', 'Kubernetes']\n",
      "skills_group_5 ['C#', 'F#', 'PowerShell', 'VBA', 'Microsoft SQL Server', 'ASP.NET', 'ASP.NET Core ', '.NET Core / .NET 5', '.NET Framework', 'Xamarin']\n",
      "skills_group_6 ['Dart', 'Firebase', 'Flutter']\n",
      "skills_group_7 ['Groovy', 'Java', 'Kotlin', 'Oracle', 'Spring']\n",
      "skills_group_8 ['Clojure', 'Haskell', 'LISP', 'Rust']\n",
      "skills_group_9 ['Unity 3D', 'Unreal Engine']\n",
      "[None, None, None, None, None, None, None, None, None, None, None, None, None, None, None, None, None, None, None, None, None, None]\n"
     ]
    }
   ],
   "source": [
    "# Load skills clusters\n",
    "with open(CLUSTERS_YAML_PATH, 'r') as stream:\n",
    "    cluster_config = yaml.safe_load(stream)\n",
    "\n",
    "print([print(cluster, skills) for cluster, skills in cluster_config.items()])"
   ]
  },
  {
   "cell_type": "code",
   "execution_count": 24,
   "id": "af35b4dd-ea91-4a3d-8551-3c0315ba008f",
   "metadata": {},
   "outputs": [
    {
     "data": {
      "text/html": [
       "<div>\n",
       "<style scoped>\n",
       "    .dataframe tbody tr th:only-of-type {\n",
       "        vertical-align: middle;\n",
       "    }\n",
       "\n",
       "    .dataframe tbody tr th {\n",
       "        vertical-align: top;\n",
       "    }\n",
       "\n",
       "    .dataframe thead th {\n",
       "        text-align: right;\n",
       "    }\n",
       "</style>\n",
       "<table border=\"1\" class=\"dataframe\">\n",
       "  <thead>\n",
       "    <tr style=\"text-align: right;\">\n",
       "      <th></th>\n",
       "      <th>cluster_name</th>\n",
       "      <th>skill</th>\n",
       "    </tr>\n",
       "  </thead>\n",
       "  <tbody>\n",
       "    <tr>\n",
       "      <th>0</th>\n",
       "      <td>skills_group_0</td>\n",
       "      <td>PHP</td>\n",
       "    </tr>\n",
       "    <tr>\n",
       "      <th>1</th>\n",
       "      <td>skills_group_0</td>\n",
       "      <td>SQL</td>\n",
       "    </tr>\n",
       "    <tr>\n",
       "      <th>2</th>\n",
       "      <td>skills_group_0</td>\n",
       "      <td>MariaDB</td>\n",
       "    </tr>\n",
       "    <tr>\n",
       "      <th>3</th>\n",
       "      <td>skills_group_0</td>\n",
       "      <td>MySQL</td>\n",
       "    </tr>\n",
       "    <tr>\n",
       "      <th>4</th>\n",
       "      <td>skills_group_0</td>\n",
       "      <td>SQLite</td>\n",
       "    </tr>\n",
       "    <tr>\n",
       "      <th>...</th>\n",
       "      <td>...</td>\n",
       "      <td>...</td>\n",
       "    </tr>\n",
       "    <tr>\n",
       "      <th>92</th>\n",
       "      <td>skills_group_8</td>\n",
       "      <td>Haskell</td>\n",
       "    </tr>\n",
       "    <tr>\n",
       "      <th>93</th>\n",
       "      <td>skills_group_8</td>\n",
       "      <td>LISP</td>\n",
       "    </tr>\n",
       "    <tr>\n",
       "      <th>94</th>\n",
       "      <td>skills_group_8</td>\n",
       "      <td>Rust</td>\n",
       "    </tr>\n",
       "    <tr>\n",
       "      <th>95</th>\n",
       "      <td>skills_group_9</td>\n",
       "      <td>Unity 3D</td>\n",
       "    </tr>\n",
       "    <tr>\n",
       "      <th>96</th>\n",
       "      <td>skills_group_9</td>\n",
       "      <td>Unreal Engine</td>\n",
       "    </tr>\n",
       "  </tbody>\n",
       "</table>\n",
       "<p>97 rows × 2 columns</p>\n",
       "</div>"
      ],
      "text/plain": [
       "      cluster_name          skill\n",
       "0   skills_group_0            PHP\n",
       "1   skills_group_0            SQL\n",
       "2   skills_group_0        MariaDB\n",
       "3   skills_group_0          MySQL\n",
       "4   skills_group_0         SQLite\n",
       "..             ...            ...\n",
       "92  skills_group_8        Haskell\n",
       "93  skills_group_8           LISP\n",
       "94  skills_group_8           Rust\n",
       "95  skills_group_9       Unity 3D\n",
       "96  skills_group_9  Unreal Engine\n",
       "\n",
       "[97 rows x 2 columns]"
      ]
     },
     "execution_count": 24,
     "metadata": {},
     "output_type": "execute_result"
    }
   ],
   "source": [
    "# Reformat into dataframe:\n",
    "molten_clusters = [(cluster_name, cluster_skill)\n",
    "                   for cluster_name, cluster_skills in cluster_config.items()\n",
    "                   for cluster_skill in cluster_skills]\n",
    "\n",
    "clusters_df = pd.DataFrame(molten_clusters, columns=[\"cluster_name\", \"skill\"])\n",
    "clusters_df"
   ]
  },
  {
   "cell_type": "markdown",
   "id": "041fe621-1b5c-4080-a390-a3ac7d303e73",
   "metadata": {},
   "source": [
    "## Predict sample entry"
   ]
  },
  {
   "cell_type": "code",
   "execution_count": 65,
   "id": "943ce021-d686-4765-8230-6cd36a920126",
   "metadata": {},
   "outputs": [],
   "source": [
    "sample_skills = [\"Unreal Engine\", \"Unity 3D\"]#, \"Hadoop\", \"Python\"]"
   ]
  },
  {
   "cell_type": "code",
   "execution_count": 66,
   "id": "43645b79-3a74-4901-b2fe-6c05b198702e",
   "metadata": {},
   "outputs": [
    {
     "data": {
      "text/plain": [
       "0    True\n",
       "1    True\n",
       "dtype: bool"
      ]
     },
     "execution_count": 66,
     "metadata": {},
     "output_type": "execute_result"
    }
   ],
   "source": [
    "# Verify that these skills existis as features\n",
    "pd.Series(sample_skills).isin(features_names)"
   ]
  },
  {
   "cell_type": "markdown",
   "id": "059af341-86f3-42b8-b558-0332a9ae1f60",
   "metadata": {},
   "source": [
    "### 1. Recreate cluster features"
   ]
  },
  {
   "cell_type": "code",
   "execution_count": 67,
   "id": "a288c029-091e-4464-9987-d5f5d9371e02",
   "metadata": {},
   "outputs": [
    {
     "data": {
      "text/html": [
       "<div>\n",
       "<style scoped>\n",
       "    .dataframe tbody tr th:only-of-type {\n",
       "        vertical-align: middle;\n",
       "    }\n",
       "\n",
       "    .dataframe tbody tr th {\n",
       "        vertical-align: top;\n",
       "    }\n",
       "\n",
       "    .dataframe thead th {\n",
       "        text-align: right;\n",
       "    }\n",
       "</style>\n",
       "<table border=\"1\" class=\"dataframe\">\n",
       "  <thead>\n",
       "    <tr style=\"text-align: right;\">\n",
       "      <th></th>\n",
       "      <th>cluster_name</th>\n",
       "      <th>skill</th>\n",
       "      <th>sample_skills</th>\n",
       "    </tr>\n",
       "  </thead>\n",
       "  <tbody>\n",
       "    <tr>\n",
       "      <th>0</th>\n",
       "      <td>skills_group_0</td>\n",
       "      <td>PHP</td>\n",
       "      <td>False</td>\n",
       "    </tr>\n",
       "    <tr>\n",
       "      <th>1</th>\n",
       "      <td>skills_group_0</td>\n",
       "      <td>SQL</td>\n",
       "      <td>False</td>\n",
       "    </tr>\n",
       "    <tr>\n",
       "      <th>2</th>\n",
       "      <td>skills_group_0</td>\n",
       "      <td>MariaDB</td>\n",
       "      <td>False</td>\n",
       "    </tr>\n",
       "    <tr>\n",
       "      <th>3</th>\n",
       "      <td>skills_group_0</td>\n",
       "      <td>MySQL</td>\n",
       "      <td>False</td>\n",
       "    </tr>\n",
       "    <tr>\n",
       "      <th>4</th>\n",
       "      <td>skills_group_0</td>\n",
       "      <td>SQLite</td>\n",
       "      <td>False</td>\n",
       "    </tr>\n",
       "    <tr>\n",
       "      <th>...</th>\n",
       "      <td>...</td>\n",
       "      <td>...</td>\n",
       "      <td>...</td>\n",
       "    </tr>\n",
       "    <tr>\n",
       "      <th>92</th>\n",
       "      <td>skills_group_8</td>\n",
       "      <td>Haskell</td>\n",
       "      <td>False</td>\n",
       "    </tr>\n",
       "    <tr>\n",
       "      <th>93</th>\n",
       "      <td>skills_group_8</td>\n",
       "      <td>LISP</td>\n",
       "      <td>False</td>\n",
       "    </tr>\n",
       "    <tr>\n",
       "      <th>94</th>\n",
       "      <td>skills_group_8</td>\n",
       "      <td>Rust</td>\n",
       "      <td>False</td>\n",
       "    </tr>\n",
       "    <tr>\n",
       "      <th>95</th>\n",
       "      <td>skills_group_9</td>\n",
       "      <td>Unity 3D</td>\n",
       "      <td>True</td>\n",
       "    </tr>\n",
       "    <tr>\n",
       "      <th>96</th>\n",
       "      <td>skills_group_9</td>\n",
       "      <td>Unreal Engine</td>\n",
       "      <td>True</td>\n",
       "    </tr>\n",
       "  </tbody>\n",
       "</table>\n",
       "<p>97 rows × 3 columns</p>\n",
       "</div>"
      ],
      "text/plain": [
       "      cluster_name          skill  sample_skills\n",
       "0   skills_group_0            PHP          False\n",
       "1   skills_group_0            SQL          False\n",
       "2   skills_group_0        MariaDB          False\n",
       "3   skills_group_0          MySQL          False\n",
       "4   skills_group_0         SQLite          False\n",
       "..             ...            ...            ...\n",
       "92  skills_group_8        Haskell          False\n",
       "93  skills_group_8           LISP          False\n",
       "94  skills_group_8           Rust          False\n",
       "95  skills_group_9       Unity 3D           True\n",
       "96  skills_group_9  Unreal Engine           True\n",
       "\n",
       "[97 rows x 3 columns]"
      ]
     },
     "execution_count": 67,
     "metadata": {},
     "output_type": "execute_result"
    }
   ],
   "source": [
    "sample_clusters = clusters_df.copy()\n",
    "sample_clusters[\"sample_skills\"] = sample_clusters[\"skill\"].isin(sample_skills)\n",
    "sample_clusters"
   ]
  },
  {
   "cell_type": "code",
   "execution_count": 68,
   "id": "0dd3c9ab-52a7-4219-8a74-7aca0291d32e",
   "metadata": {},
   "outputs": [
    {
     "data": {
      "text/plain": [
       "cluster_name\n",
       "skills_group_0     0\n",
       "skills_group_1     0\n",
       "skills_group_10    0\n",
       "skills_group_11    0\n",
       "skills_group_12    0\n",
       "skills_group_13    0\n",
       "skills_group_14    0\n",
       "skills_group_15    0\n",
       "skills_group_16    0\n",
       "skills_group_17    0\n",
       "skills_group_18    0\n",
       "skills_group_19    0\n",
       "skills_group_2     0\n",
       "skills_group_20    0\n",
       "skills_group_21    0\n",
       "skills_group_3     0\n",
       "skills_group_4     0\n",
       "skills_group_5     0\n",
       "skills_group_6     0\n",
       "skills_group_7     0\n",
       "skills_group_8     0\n",
       "skills_group_9     2\n",
       "Name: sample_skills, dtype: int64"
      ]
     },
     "execution_count": 68,
     "metadata": {},
     "output_type": "execute_result"
    }
   ],
   "source": [
    "cluster_features = sample_clusters.groupby(\"cluster_name\")[\"sample_skills\"].sum()\n",
    "cluster_features"
   ]
  },
  {
   "cell_type": "markdown",
   "id": "89a72ff4-a948-457f-b006-dc2f869640b8",
   "metadata": {},
   "source": [
    "### 2. Create OneHotEncoded skills:"
   ]
  },
  {
   "cell_type": "code",
   "execution_count": 69,
   "id": "2378787b-3d64-487f-b98a-c337543b2af0",
   "metadata": {},
   "outputs": [
    {
     "data": {
      "text/plain": [
       "0                     APL\n",
       "1                Assembly\n",
       "2              Bash/Shell\n",
       "3                       C\n",
       "4                      C#\n",
       "              ...        \n",
       "120                   Vim\n",
       "121         Visual Studio\n",
       "122    Visual Studio Code\n",
       "123              Webstorm\n",
       "124                 Xcode\n",
       "Length: 125, dtype: object"
      ]
     },
     "execution_count": 69,
     "metadata": {},
     "output_type": "execute_result"
    }
   ],
   "source": [
    "# First take only the skills columns; we drop only cluster_features from the overall features_names\n",
    "skills_names = features_names[~features_names.isin(cluster_features.index)]\n",
    "skills_names"
   ]
  },
  {
   "cell_type": "code",
   "execution_count": 70,
   "id": "18bc2fde-0fe3-4548-a233-a99b79c780df",
   "metadata": {},
   "outputs": [
    {
     "data": {
      "text/plain": [
       "APL                   0\n",
       "Assembly              0\n",
       "Bash/Shell            0\n",
       "C                     0\n",
       "C#                    0\n",
       "                     ..\n",
       "Vim                   0\n",
       "Visual Studio         0\n",
       "Visual Studio Code    0\n",
       "Webstorm              0\n",
       "Xcode                 0\n",
       "Length: 125, dtype: int64"
      ]
     },
     "execution_count": 70,
     "metadata": {},
     "output_type": "execute_result"
    }
   ],
   "source": [
    "# Now using the skills_names we can construct a pandas series;\n",
    "# that contains all skills with 1 for skills in the sample skills\n",
    "ohe_skills = pd.Series(skills_names.isin(sample_skills).astype(int).tolist(),\n",
    "                       index=skills_names)\n",
    "ohe_skills"
   ]
  },
  {
   "cell_type": "markdown",
   "id": "0f07a43b-4746-4f96-8f8c-54a5e8a2d257",
   "metadata": {
    "tags": []
   },
   "source": [
    "### 3. Combine features"
   ]
  },
  {
   "cell_type": "code",
   "execution_count": 71,
   "id": "f5546441-e19e-4b38-b6d4-96809ac64f67",
   "metadata": {},
   "outputs": [],
   "source": [
    "# Concat \n",
    "features = pd.concat([ohe_skills, cluster_features])"
   ]
  },
  {
   "cell_type": "code",
   "execution_count": 72,
   "id": "f4e5acb8-e82e-4191-a1e7-26a569268c27",
   "metadata": {},
   "outputs": [
    {
     "data": {
      "text/plain": [
       "APL               0\n",
       "Assembly          0\n",
       "Bash/Shell        0\n",
       "C                 0\n",
       "C#                0\n",
       "                 ..\n",
       "skills_group_5    0\n",
       "skills_group_6    0\n",
       "skills_group_7    0\n",
       "skills_group_8    0\n",
       "skills_group_9    2\n",
       "Length: 147, dtype: int64"
      ]
     },
     "execution_count": 72,
     "metadata": {},
     "output_type": "execute_result"
    }
   ],
   "source": [
    "# Sort columns according to features_names\n",
    "features = features.loc[features_names]\n",
    "features"
   ]
  },
  {
   "cell_type": "markdown",
   "id": "efa3e273-43ed-4d26-be1c-02043bf584b3",
   "metadata": {},
   "source": [
    "### 4. Predict"
   ]
  },
  {
   "cell_type": "code",
   "execution_count": 73,
   "id": "7ddfc662-2c47-4ff6-8c73-06ec9c6cc173",
   "metadata": {},
   "outputs": [
    {
     "name": "stderr",
     "output_type": "stream",
     "text": [
      "[Parallel(n_jobs=8)]: Using backend ThreadingBackend with 8 concurrent workers.\n",
      "[Parallel(n_jobs=8)]: Done  34 tasks      | elapsed:    0.0s\n",
      "[Parallel(n_jobs=8)]: Done 184 tasks      | elapsed:    0.0s\n",
      "[Parallel(n_jobs=8)]: Done 250 out of 250 | elapsed:    0.0s finished\n"
     ]
    },
    {
     "data": {
      "text/plain": [
       "[array([[0.912, 0.088]]),\n",
       " array([[0.952, 0.048]]),\n",
       " array([[0.972, 0.028]]),\n",
       " array([[0.996, 0.004]]),\n",
       " array([[1., 0.]]),\n",
       " array([[0.9648, 0.0352]]),\n",
       " array([[0.942, 0.058]]),\n",
       " array([[0.874, 0.126]]),\n",
       " array([[0.98, 0.02]]),\n",
       " array([[0.828, 0.172]]),\n",
       " array([[0.872, 0.128]]),\n",
       " array([[0.4, 0.6]]),\n",
       " array([[0.844, 0.156]]),\n",
       " array([[0.932, 0.068]]),\n",
       " array([[0.9112, 0.0888]]),\n",
       " array([[0.94, 0.06]])]"
      ]
     },
     "execution_count": 73,
     "metadata": {},
     "output_type": "execute_result"
    }
   ],
   "source": [
    "predictions = classifier.predict_proba([features.values])\n",
    "predictions"
   ]
  },
  {
   "cell_type": "code",
   "execution_count": 74,
   "id": "bf4e31f0-f11e-47e7-b8b1-7047ade445a2",
   "metadata": {},
   "outputs": [
    {
     "data": {
      "text/plain": [
       "Developer, game or graphics                      0.6000\n",
       "Developer, front-end                             0.1720\n",
       "Developer, mobile                                0.1560\n",
       "Developer, full-stack                            0.1280\n",
       "Developer, desktop or enterprise applications    0.1260\n",
       "Scientist                                        0.0888\n",
       "Academic researcher                              0.0880\n",
       "Engineer, data                                   0.0680\n",
       "System administrator                             0.0600\n",
       "Developer, back-end                              0.0580\n",
       "Data or business analyst                         0.0480\n",
       "Developer, QA or test                            0.0352\n",
       "Data scientist or machine learning specialist    0.0280\n",
       "Developer, embedded applications or devices      0.0200\n",
       "Database administrator                           0.0040\n",
       "DevOps specialist                                0.0000\n",
       "dtype: float64"
      ]
     },
     "execution_count": 74,
     "metadata": {},
     "output_type": "execute_result"
    }
   ],
   "source": [
    "# Now print the props sorted and indexed with target names\n",
    "positive_probs = [prob[0][1] for prob in predictions]\n",
    "pd.Series(positive_probs,\n",
    "          index=targets_names).sort_values(ascending=False)"
   ]
  },
  {
   "cell_type": "code",
   "execution_count": null,
   "id": "fadfc818-0b3f-4341-a572-18556489a742",
   "metadata": {},
   "outputs": [],
   "source": []
  },
  {
   "cell_type": "code",
   "execution_count": null,
   "id": "72b37880-3962-4922-a0c5-ef45a9be2fc5",
   "metadata": {},
   "outputs": [],
   "source": []
  }
 ],
 "metadata": {
  "kernelspec": {
   "display_name": "Python 3 (ipykernel)",
   "language": "python",
   "name": "python3"
  },
  "language_info": {
   "codemirror_mode": {
    "name": "ipython",
    "version": 3
   },
   "file_extension": ".py",
   "mimetype": "text/x-python",
   "name": "python",
   "nbconvert_exporter": "python",
   "pygments_lexer": "ipython3",
   "version": "3.8.8"
  }
 },
 "nbformat": 4,
 "nbformat_minor": 5
}
